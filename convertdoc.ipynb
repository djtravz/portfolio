{
 "cells": [
  {
   "cell_type": "markdown",
   "metadata": {},
   "source": [
    "# Converting Data to HTML\n",
    "This script is used to convert data from my portfolio CSV into the direct HTML data to import into the website."
   ]
  },
  {
   "cell_type": "code",
   "execution_count": 14,
   "metadata": {},
   "outputs": [],
   "source": [
    "import pandas\n",
    "import datetime"
   ]
  },
  {
   "cell_type": "markdown",
   "metadata": {},
   "source": [
    "This is a class used to make each section have its own variables and generate its own text."
   ]
  },
  {
   "cell_type": "code",
   "execution_count": 15,
   "metadata": {},
   "outputs": [],
   "source": [
    "d = {}\n",
    "class section:\n",
    "    def __init__(self,name,link,summary,type='has-video'):\n",
    "        self.name = name\n",
    "        self.link = link\n",
    "        if link == \"NOLINK\":\n",
    "            self.type = 'header'\n",
    "        else: self.type = type\n",
    "        self.summary = summary\n",
    "        \n",
    "\n",
    "    def generate(self):\n",
    "        semi = \"'\"\n",
    "        if self.type == \"has-video\":\n",
    "            return f\"\"\"        <div class=\"section\">\n",
    "            <div class=\"summary\">\n",
    "                <h2>{self.name}</h2>\n",
    "                {self.summary}\n",
    "            </div>\n",
    "            <div class=\"video\">\n",
    "                {'<iframe width=\"auto\" height=\"auto\" src=\"https://www.youtube.com/embed/'+self.link+'&autoplay=1\"srcdoc=\"<style>*{padding:0;margin:0;overflow:hidden}html,body{height:100%}img,span{position:absolute;width:100%;top:0;bottom:0;margin:auto}span{height:1.5em;text-align:center;font:48px/1.5 sans-serif;color:white;text-shadow:0 0 0.5em black}</style><a href=https://www.youtube.com/embed/'+self.link+'?autoplay=1><img src=https://img.youtube.com/vi/'+self.link+'/hqdefault.jpg alt='+semi+self.name+semi+'><span>▶</span></a>\"frameborder=\"0\" allow=\"accelerometer; autoplay; encrypted-media; gyroscope; picture-in-picture\" allowfullscreen title=\"'+self.name+'\"></iframe>'}\n",
    "            </div>\n",
    "        </div>\"\"\"\n",
    "        elif self.type == \"header\":\n",
    "            return f\"\"\"        <div class=\"header\">\n",
    "            <h1>{self.name}</h1>\n",
    "            {self.summary}\n",
    "        </div>\"\"\""
   ]
  },
  {
   "cell_type": "markdown",
   "metadata": {},
   "source": [
    "This opens up the file exported from google sheets and loads it into memory"
   ]
  },
  {
   "cell_type": "code",
   "execution_count": 16,
   "metadata": {},
   "outputs": [],
   "source": [
    "with open('reel data.csv','r',encoding=\"utf-8-sig\") as file:\n",
    "    data = pandas.read_csv(file,names=[\"name\",\"link\",\"summary\"])"
   ]
  },
  {
   "cell_type": "markdown",
   "metadata": {},
   "source": [
    "This will create a section data member for every line in the original file"
   ]
  },
  {
   "cell_type": "code",
   "execution_count": 17,
   "metadata": {},
   "outputs": [],
   "source": [
    "final = []\n",
    "\n",
    "for index,row in data.iterrows():\n",
    "    # print(row['link'])\n",
    "    final.append(section(row['name'],str(row['link']),row['summary']))"
   ]
  },
  {
   "cell_type": "markdown",
   "metadata": {},
   "source": [
    "This generates the final HTML, generating every section's data."
   ]
  },
  {
   "cell_type": "code",
   "execution_count": 18,
   "metadata": {},
   "outputs": [],
   "source": [
    "finalHTML = \"\"\"\n",
    "<!DOCTYPE html>\n",
    "\n",
    "<html>\n",
    "    <head>\n",
    "        <link rel=\"stylesheet\" href=\"style.css\">\n",
    "        <title>DT - Video Portfolio</title>\n",
    "    </head>\n",
    "<body>\n",
    "\"\"\"\n",
    "for sec in final:\n",
    "    finalHTML += f\"{sec.generate()}\\n\"\n",
    "finalHTML += \"\"\"</div>\n",
    "</body>\n",
    "</html>\n",
    "\"\"\"\n"
   ]
  },
  {
   "cell_type": "markdown",
   "metadata": {},
   "source": [
    "This writes all of the data to the file for easy access"
   ]
  },
  {
   "cell_type": "code",
   "execution_count": 19,
   "metadata": {},
   "outputs": [],
   "source": [
    "with open(\"out.html\",'w',encoding=\"utf-8\") as outfile:\n",
    "    outfile.write(finalHTML)"
   ]
  }
 ],
 "metadata": {
  "kernelspec": {
   "display_name": "Python 3.9.7 ('base')",
   "language": "python",
   "name": "python3"
  },
  "language_info": {
   "codemirror_mode": {
    "name": "ipython",
    "version": 3
   },
   "file_extension": ".py",
   "mimetype": "text/x-python",
   "name": "python",
   "nbconvert_exporter": "python",
   "pygments_lexer": "ipython3",
   "version": "3.9.7"
  },
  "orig_nbformat": 4,
  "vscode": {
   "interpreter": {
    "hash": "e4053c2ce442af6645c1d7c46ec8735027689a8719044261d435e32e1f4b48a4"
   }
  }
 },
 "nbformat": 4,
 "nbformat_minor": 2
}
